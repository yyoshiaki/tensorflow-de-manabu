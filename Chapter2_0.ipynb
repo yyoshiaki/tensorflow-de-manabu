{
 "cells": [
  {
   "cell_type": "code",
   "execution_count": 2,
   "metadata": {
    "collapsed": true
   },
   "outputs": [],
   "source": [
    "import pandas as pd\n",
    "from pandas import DataFrame, Series\n",
    "import numpy as np\n",
    "from numpy.random import multivariate_normal, permutation\n",
    "\n",
    "import matplotlib.pyplot as plt\n",
    "\n",
    "%matplotlib inline"
   ]
  },
  {
   "cell_type": "markdown",
   "metadata": {},
   "source": [
    "# データの用意[MLE-01-4]"
   ]
  },
  {
   "cell_type": "code",
   "execution_count": 20,
   "metadata": {
    "collapsed": true
   },
   "outputs": [],
   "source": [
    "np.random.seed(20160512)\n",
    "\n",
    "n0, mu0, variance0 = 20, [10, 11], 20\n",
    "data0 = multivariate_normal(mu0, np.eye(2)*variance0 ,n0)\n",
    "df0 = DataFrame(data0, columns=['x1','x2'])\n",
    "df0['t'] = 0\n",
    "\n",
    "n1, mu1, variance1 = 15, [18, 20], 22\n",
    "data1 = multivariate_normal(mu1, np.eye(2)*variance1 ,n1)\n",
    "df1 = DataFrame(data1, columns=['x1','x2'])\n",
    "df1['t'] = 1\n",
    "\n",
    "df = pd.concat([df0, df1], ignore_index=True)\n",
    "# dfだと並んでるのでシャッフル\n",
    "train_set = df.reindex(permutation(df.index)).reset_index(drop=True)\n",
    "\n",
    "train_x = train_set[['x1','x2']].as_matrix()\n",
    "train_t = train_set['t'].as_matrix().reshape([len(train_set), 1])"
   ]
  },
  {
   "cell_type": "code",
   "execution_count": 10,
   "metadata": {
    "collapsed": false,
    "scrolled": true
   },
   "outputs": [
    {
     "data": {
      "text/html": [
       "<div>\n",
       "<style>\n",
       "    .dataframe thead tr:only-child th {\n",
       "        text-align: right;\n",
       "    }\n",
       "\n",
       "    .dataframe thead th {\n",
       "        text-align: left;\n",
       "    }\n",
       "\n",
       "    .dataframe tbody tr th {\n",
       "        vertical-align: top;\n",
       "    }\n",
       "</style>\n",
       "<table border=\"1\" class=\"dataframe\">\n",
       "  <thead>\n",
       "    <tr style=\"text-align: right;\">\n",
       "      <th></th>\n",
       "      <th>x1</th>\n",
       "      <th>x2</th>\n",
       "      <th>t</th>\n",
       "    </tr>\n",
       "  </thead>\n",
       "  <tbody>\n",
       "    <tr>\n",
       "      <th>0</th>\n",
       "      <td>20.729880</td>\n",
       "      <td>18.209359</td>\n",
       "      <td>1</td>\n",
       "    </tr>\n",
       "    <tr>\n",
       "      <th>1</th>\n",
       "      <td>16.503919</td>\n",
       "      <td>14.685085</td>\n",
       "      <td>0</td>\n",
       "    </tr>\n",
       "    <tr>\n",
       "      <th>2</th>\n",
       "      <td>5.508661</td>\n",
       "      <td>17.426775</td>\n",
       "      <td>0</td>\n",
       "    </tr>\n",
       "    <tr>\n",
       "      <th>3</th>\n",
       "      <td>9.167047</td>\n",
       "      <td>9.178837</td>\n",
       "      <td>0</td>\n",
       "    </tr>\n",
       "    <tr>\n",
       "      <th>4</th>\n",
       "      <td>8.640423</td>\n",
       "      <td>9.561952</td>\n",
       "      <td>0</td>\n",
       "    </tr>\n",
       "  </tbody>\n",
       "</table>\n",
       "</div>"
      ],
      "text/plain": [
       "          x1         x2  t\n",
       "0  20.729880  18.209359  1\n",
       "1  16.503919  14.685085  0\n",
       "2   5.508661  17.426775  0\n",
       "3   9.167047   9.178837  0\n",
       "4   8.640423   9.561952  0"
      ]
     },
     "execution_count": 10,
     "metadata": {},
     "output_type": "execute_result"
    }
   ],
   "source": [
    "train_set.head()"
   ]
  },
  {
   "cell_type": "code",
   "execution_count": 19,
   "metadata": {
    "collapsed": false
   },
   "outputs": [
    {
     "data": {
      "text/plain": [
       "<matplotlib.legend.Legend at 0x1160a2eb8>"
      ]
     },
     "execution_count": 19,
     "metadata": {},
     "output_type": "execute_result"
    },
    {
     "data": {
      "image/png": "[encoded data removed]",
      "text/plain": [
       "<matplotlib.figure.Figure at 0x115fab898>"
      ]
     },
     "metadata": {},
     "output_type": "display_data"
    }
   ],
   "source": [
    "train_set0 = train_set[train_set['t']==0]\n",
    "train_set1 = train_set[train_set['t']==1]\n",
    "\n",
    "plt.figure(figsize=(6,6))\n",
    "\n",
    "plt.ylim([0,30])\n",
    "plt.xlim([0,30])\n",
    "plt.scatter(train_set1.x1, train_set1.x2, marker='x', label='pos')\n",
    "plt.scatter(train_set0.x1, train_set0.x2, marker='o', label='neg')\n",
    "plt.xlabel('x1')\n",
    "plt.ylabel('x2')\n",
    "plt.legend()"
   ]
  },
  {
   "cell_type": "markdown",
   "metadata": {},
   "source": [
    "ここまではほとんど本文と一緒"
   ]
  },
  {
   "cell_type": "markdown",
   "metadata": {},
   "source": [
    "# modelの設計 [MLE-5-7]"
   ]
  },
  {
   "cell_type": "code",
   "execution_count": 21,
   "metadata": {
    "collapsed": true
   },
   "outputs": [],
   "source": [
    "from keras.models import Sequential\n",
    "from keras.layers import Dense, Activation"
   ]
  },
  {
   "cell_type": "code",
   "execution_count": 24,
   "metadata": {
    "collapsed": false
   },
   "outputs": [],
   "source": [
    "model = Sequential()\n",
    "model.add(Dense(units=1, input_dim=2, kernel_initializer='zeros'))\n",
    "model.add(Activation('sigmoid'))\n",
    "model.compile(optimizer='adam', loss='binary_crossentropy', metrics=['accuracy'])"
   ]
  },
  {
   "cell_type": "code",
   "execution_count": 25,
   "metadata": {
    "collapsed": true
   },
   "outputs": [],
   "source": [
    "from keras.utils.vis_utils import plot_model\n",
    "plot_model(model, to_file='Chapter2_0_model.png', show_shapes=True)"
   ]
  },
  {
   "cell_type": "markdown",
   "metadata": {},
   "source": [
    "※マークダウンで表示してます。\n",
    "<img src='Chapter2_0_model.png'>"
   ]
  },
  {
   "cell_type": "markdown",
   "metadata": {},
   "source": [
    "# 学習 [MLE-8,9]"
   ]
  },
  {
   "cell_type": "code",
   "execution_count": 26,
   "metadata": {
    "collapsed": true
   },
   "outputs": [],
   "source": [
    "# verbose : epochの進捗。今回は可視化しない。\n",
    "# fitの戻り値にLoss funcが含まれるため回収。\n",
    "history = model.fit(train_x, train_t, verbose=0, epochs=20000)"
   ]
  },
  {
   "cell_type": "code",
   "execution_count": 29,
   "metadata": {
    "collapsed": false
   },
   "outputs": [
    {
     "data": {
      "text/plain": [
       "<matplotlib.text.Text at 0x120b9e208>"
      ]
     },
     "execution_count": 29,
     "metadata": {},
     "output_type": "execute_result"
    },
    {
     "data": {
      "image/png": "[encoded data removed]",
      "text/plain": [
       "<matplotlib.figure.Figure at 0x1207e2f60>"
      ]
     },
     "metadata": {},
     "output_type": "display_data"
    }
   ],
   "source": [
    "# subplotの書き方は個人的にこっちの方が好き。\n",
    "# ただの解像度の設定。\n",
    "plt.figure(dpi=100)\n",
    "\n",
    "plt.subplot(221)\n",
    "plt.plot(history.history['loss'])\n",
    "plt.title('Loss function')\n",
    "\n",
    "plt.subplot(222)\n",
    "plt.plot(history.history['acc'])\n",
    "plt.title('Accuracy')"
   ]
  },
  {
   "cell_type": "markdown",
   "metadata": {},
   "source": [
    "# パラメーターの値の取り出し [MLE-10]"
   ]
  },
  {
   "cell_type": "code",
   "execution_count": 36,
   "metadata": {
    "collapsed": false
   },
   "outputs": [
    {
     "data": {
      "text/plain": [
       "[array([[ 0.36455086],\n",
       "        [ 0.33923531]], dtype=float32), array([-10.46599483], dtype=float32)]"
      ]
     },
     "execution_count": 36,
     "metadata": {},
     "output_type": "execute_result"
    }
   ],
   "source": [
    "model.get_weights()"
   ]
  },
  {
   "cell_type": "code",
   "execution_count": 38,
   "metadata": {
    "collapsed": false
   },
   "outputs": [],
   "source": [
    "# 本とは順序が逆になることに注意。\n",
    "w1_val = model.get_weights()[0][0]\n",
    "w2_val = model.get_weights()[0][1]\n",
    "w0_val = model.get_weights()[1]"
   ]
  },
  {
   "cell_type": "markdown",
   "metadata": {},
   "source": [
    "# 結果のプロット（predict）[MLE-11]"
   ]
  },
  {
   "cell_type": "code",
   "execution_count": 72,
   "metadata": {
    "collapsed": false
   },
   "outputs": [
    {
     "data": {
      "text/plain": [
       "<matplotlib.image.AxesImage at 0x121ec6ef0>"
      ]
     },
     "execution_count": 72,
     "metadata": {},
     "output_type": "execute_result"
    },
    {
     "data": {
      "image/png": "[encoded data removed]",
      "text/plain": [
       "<matplotlib.figure.Figure at 0x121bb0b38>"
      ]
     },
     "metadata": {},
     "output_type": "display_data"
    }
   ],
   "source": [
    "train_set0 = train_set[train_set['t']==0]\n",
    "train_set1 = train_set[train_set['t']==1]\n",
    "\n",
    "plt.figure(figsize=(6,6))\n",
    "\n",
    "plt.ylim([0,30])\n",
    "plt.xlim([0,30])\n",
    "plt.scatter(train_set1.x1, train_set1.x2, marker='x', label='pos')\n",
    "plt.scatter(train_set0.x1, train_set0.x2, marker='o', label='neg')\n",
    "plt.xlabel('x1')\n",
    "plt.ylabel('x2')\n",
    "plt.legend()\n",
    "\n",
    "linex = np.linspace(0,30,10)\n",
    "liney = - (w1_val*linex/w2_val + w0_val/w2_val)\n",
    "plt.plot(linex, liney)\n",
    "\n",
    "# ここはまどろっこしい処理だが、imshowしたいためだけなので深い追いしなくてもよい。\n",
    "# ただ、\n",
    "mesh = np.meshgrid(np.linspace(0,30,100), np.linspace(0,30,100))\n",
    "mesh = np.concatenate([mesh[0].reshape([10000,1]), mesh[1].reshape([10000,1])], axis=1)\n",
    "field = model.predict(mesh).reshape([100,100])\n",
    "plt.imshow(field, origin='lower', extent=(0,30,0,30),\n",
    "               cmap='gray_r', alpha=0.5)"
   ]
  },
  {
   "cell_type": "code",
   "execution_count": null,
   "metadata": {
    "collapsed": true
   },
   "outputs": [],
   "source": []
  }
 ],
 "metadata": {
  "anaconda-cloud": {},
  "kernelspec": {
   "display_name": "Python [conda root]",
   "language": "python",
   "name": "conda-root-py"
  },
  "language_info": {
   "codemirror_mode": {
    "name": "ipython",
    "version": 3
   },
   "file_extension": ".py",
   "mimetype": "text/x-python",
   "name": "python",
   "nbconvert_exporter": "python",
   "pygments_lexer": "ipython3",
   "version": "3.5.2"
  }
 },
 "nbformat": 4,
 "nbformat_minor": 1
}
